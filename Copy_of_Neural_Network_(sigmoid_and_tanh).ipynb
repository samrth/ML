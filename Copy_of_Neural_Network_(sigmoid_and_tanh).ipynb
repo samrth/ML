{
  "nbformat": 4,
  "nbformat_minor": 0,
  "metadata": {
    "colab": {
      "name": "Copy of Neural Network (sigmoid and tanh).ipynb",
      "provenance": [],
      "collapsed_sections": []
    },
    "kernelspec": {
      "name": "python3",
      "display_name": "Python 3"
    }
  },
  "cells": [
    {
      "cell_type": "markdown",
      "metadata": {
        "id": "v4bScX4GBud0",
        "colab_type": "text"
      },
      "source": [
        "The training process consists of the following steps:\n",
        "\n",
        "Forward Propagation:\n",
        "Take the inputs, multiply by the weights (just use random numbers as weights)\n",
        "Let Y = WiIi = W1I1+W2I2+W3I3\n",
        "Pass the result through a sigmoid formula to calculate the neuron’s output. The Sigmoid function is used to normalise the result between 0 and 1:\n",
        "1/1 + e-y\n",
        "\n",
        "\n",
        "Back Propagation\n",
        "\n",
        "Calculate the error i.e the difference between the actual output and the expected output. Depending on the error, adjust the weights by multiplying the error with the input and again with the gradient of the Sigmoid curve:\n",
        "Weight += Error *Input *derivative of sigmoid ,here Output (1-Output) is derivative of sigmoid curve."
      ]
    },
    {
      "cell_type": "code",
      "metadata": {
        "id": "SULlKnE0JByr",
        "colab_type": "code",
        "outputId": "0f8857d3-f714-4359-81f0-28ac340a1636",
        "colab": {
          "base_uri": "https://localhost:8080/",
          "height": 34
        }
      },
      "source": [
        "from numpy import *\n",
        "  \n",
        "class NeuralNet(object): \n",
        "    def __init__(self): \n",
        "        # Generate random numbers \n",
        "        random.seed(1) \n",
        "  \n",
        "        # Assign random weights to a 3 x 1 matrix, \n",
        "        self.synaptic_weights = 2 * random.random((3, 1)) - 1\n",
        "  \n",
        "    # The Sigmoid function \n",
        "    def __sigmoid(self, x): \n",
        "        return 1 / (1 + exp(-x)) \n",
        "  \n",
        "    # The derivative of the Sigmoid function. \n",
        "    # This is the gradient of the Sigmoid curve. \n",
        "    def __sigmoid_derivative(self, x): \n",
        "        return x * (1 - x) \n",
        "  \n",
        "    # Train the neural network and adjust the weights each time. \n",
        "    def train(self, inputs, outputs, training_iterations): \n",
        "        for iteration in range(training_iterations): \n",
        "  \n",
        "            # Pass the training set through the network. \n",
        "            output = self.learn(inputs) \n",
        "  \n",
        "            # Calculate the error \n",
        "            error = outputs - output \n",
        "  \n",
        "            # Adjust the weights by a factor \n",
        "            factor = dot(inputs.T, error * self.__sigmoid_derivative(output)) \n",
        "            self.synaptic_weights += factor \n",
        "  \n",
        "    # The neural network thinks. \n",
        "    def learn(self, inputs): \n",
        "        return self.__sigmoid(dot(inputs, self.synaptic_weights)) \n",
        "  \n",
        "if __name__ == \"__main__\": \n",
        "  \n",
        "    #Initialize \n",
        "    neural_network = NeuralNet() \n",
        "  \n",
        "    # The training set. \n",
        "    inputs = array([[0, 1, 1], [1, 0, 0], [1, 0, 1]]) \n",
        "    outputs = array([[1, 0, 1]]).T \n",
        "  \n",
        "    # Train the neural network \n",
        "    neural_network.train(inputs, outputs, 10) \n",
        "  \n",
        "    # Test the neural network with a test example. \n",
        "    print (neural_network.learn(array([1, 0, 1])) )"
      ],
      "execution_count": 5,
      "outputs": [
        {
          "output_type": "stream",
          "text": [
            "[0.65980921]\n"
          ],
          "name": "stdout"
        }
      ]
    },
    {
      "cell_type": "markdown",
      "metadata": {
        "id": "aiGXJd2mIwnO",
        "colab_type": "text"
      },
      "source": [
        ""
      ]
    },
    {
      "cell_type": "code",
      "metadata": {
        "id": "rLvUtEP3FrNu",
        "colab_type": "code",
        "outputId": "558e9c14-579c-4413-df95-afc3ae2f2e94",
        "colab": {
          "base_uri": "https://localhost:8080/",
          "height": 187
        }
      },
      "source": [
        "# Class to create a neural  \n",
        "# network with single neuron \n",
        "class NeuralNetwork(): \n",
        "      \n",
        "    def __init__(self): \n",
        "          \n",
        "        # Using seed to make sure it'll   \n",
        "        # generate same weights in every run \n",
        "        random.seed(1) \n",
        "          \n",
        "        # 3x1 Weight matrix \n",
        "        self.weight_matrix = 2 * random.random((3, 1)) - 1\n",
        "  \n",
        "    # tanh as activation fucntion \n",
        "    def tanh(self, x): \n",
        "        return tanh(x)\n",
        "  \n",
        "    # derivative of tanh function. \n",
        "    # Needed to calculate the gradients. \n",
        "    def tanh_derivative(self, x): \n",
        "        return 1- tanh(x)==2\n",
        "        \n",
        "    # forward propagation \n",
        "    def forward_propagation(self, inputs): \n",
        "        return self.tanh(dot(inputs, self.weight_matrix)) \n",
        "      \n",
        "    # training the neural network. \n",
        "    def train(self, train_inputs, train_outputs, \n",
        "                            num_train_iterations): \n",
        "                                  \n",
        "        # Number of iterations we want to \n",
        "        # perform for this set of input. \n",
        "        for iteration in range(num_train_iterations): \n",
        "            output = self.forward_propagation(train_inputs) \n",
        "  \n",
        "            # Calculate the error in the output. \n",
        "            error = train_outputs - output \n",
        "  \n",
        "            # multiply the error by input and then  \n",
        "            # by gradient of tanh funtion to calculate \n",
        "            # the adjustment needs to be made in weights \n",
        "            adjustment = dot(train_inputs.T, error *\n",
        "                             self.tanh_derivative(output)) \n",
        "                               \n",
        "            # Adjust the weight matrix \n",
        "            self.weight_matrix += adjustment \n",
        "  \n",
        "# Driver Code \n",
        "if __name__ == \"__main__\": \n",
        "      \n",
        "    neural_network = NeuralNetwork() \n",
        "      \n",
        "    print ('Random weights at the start of training') \n",
        "    print (neural_network.weight_matrix) \n",
        "  \n",
        "    train_inputs = array([[0, 0, 1], [1, 1, 1], [1, 0, 1], [0, 1, 1]]) \n",
        "    train_outputs = array([[0, 1, 1, 0]]).T \n",
        "  \n",
        "    neural_network.train(train_inputs, train_outputs, 10) \n",
        "  \n",
        "    print ('New weights after training') \n",
        "    print (neural_network.weight_matrix) \n",
        "  \n",
        "    # Test the neural network with a new situation. \n",
        "    print (\"Testing network on new examples ->\")\n",
        "    print (neural_network.forward_propagation(array([1, 0, 0])))\n",
        "     "
      ],
      "execution_count": 6,
      "outputs": [
        {
          "output_type": "stream",
          "text": [
            "Random weights at the start of training\n",
            "[[-0.16595599]\n",
            " [ 0.44064899]\n",
            " [-0.99977125]]\n",
            "New weights after training\n",
            "[[-0.16595599]\n",
            " [ 0.44064899]\n",
            " [-0.99977125]]\n",
            "Testing network on new examples ->\n",
            "[-0.16444904]\n"
          ],
          "name": "stdout"
        }
      ]
    }
  ]
}